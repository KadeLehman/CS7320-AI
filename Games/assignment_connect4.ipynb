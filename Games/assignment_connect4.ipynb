{
 "cells": [
  {
   "cell_type": "markdown",
   "metadata": {},
   "source": [
    "# Adversarial Search: Playing Connect 4\n",
    "\n",
    "\n",
    "## Instructions\n",
    "\n",
    "Total Points: Undegraduates 10, graduate students 11\n",
    "\n",
    "Complete this notebook and submit it. The notebook needs to be a complete project report with your implementation, documentation including a short discussion of how your implementation works and your design choices, and experimental results (e.g., tables and charts with simulation results) with a short discussion of what they mean. Use the provided notebook cells and insert additional code and markdown cells as needed.\n",
    "\n",
    "## Introduction\n",
    "\n",
    "You will implement different versions of agents that play Connect 4:\n",
    "\n",
    "> \"Connect 4 is a two-player connection board game, in which the players choose a color and then take turns dropping colored discs into a seven-column, six-row vertically suspended grid. The pieces fall straight down, occupying the lowest available space within the column. The objective of the game is to be the first to form a horizontal, vertical, or diagonal line of four of one's own discs.\" (see [Connect Four on Wikipedia](https://en.wikipedia.org/wiki/Connect_Four))"
   ]
  },
  {
   "cell_type": "markdown",
   "metadata": {},
   "source": [
    "## Task 1: Defining the Search Problem [1 point]\n",
    "\n",
    "Define the components of the search problem:\n",
    "\n",
    "* Initial state: an empty board.\n",
    "* Actions: unfilled columns, {0-6} at game start.\n",
    "* Transition model: When a player drops a piece, it falls straight down to the lowest available space in the column.\n",
    "* Goal state: Four of the player's pieces are lined up vertically, horizontally, or diagonally."
   ]
  },
  {
   "cell_type": "markdown",
   "metadata": {},
   "source": [
    "Each of the 42 squares can have three values (empty, x, or o). However,\n",
    "* pieces cannot float above empty squares\n",
    "* the # of x's is always within one of the # of o's\n",
    "* both players can't have 4-in-a-row at once, etc.\n",
    "\n",
    "So, the search space has significantly less than this number of states:"
   ]
  },
  {
   "cell_type": "code",
   "execution_count": null,
   "metadata": {},
   "outputs": [],
   "source": [
    "print(3**42)\n",
    "print('{:.1e}'.format(3**42))"
   ]
  },
  {
   "cell_type": "markdown",
   "metadata": {},
   "source": [
    "## Task 2: Game Environment and Random Agent [2 point]\n",
    "\n",
    "Implement an agent that plays randomly and let two random agents play against each other 1000 times. How often does each player win? Is the result expected?"
   ]
  },
  {
   "cell_type": "code",
   "execution_count": 3,
   "metadata": {
    "scrolled": true
   },
   "outputs": [
    {
     "ename": "TypeError",
     "evalue": "'numpy.int64' object is not callable",
     "output_type": "error",
     "traceback": [
      "\u001b[0;31m---------------------------------------------------------------------------\u001b[0m",
      "\u001b[0;31mTypeError\u001b[0m                                 Traceback (most recent call last)",
      "\u001b[0;32m<ipython-input-3-f23fcd3bcfe2>\u001b[0m in \u001b[0;36m<module>\u001b[0;34m\u001b[0m\n\u001b[1;32m    141\u001b[0m \u001b[0;34m\u001b[0m\u001b[0m\n\u001b[1;32m    142\u001b[0m \u001b[0;32mif\u001b[0m\u001b[0;34m(\u001b[0m\u001b[0mDEBUG\u001b[0m\u001b[0;34m<\u001b[0m\u001b[0;36m2\u001b[0m\u001b[0;34m)\u001b[0m\u001b[0;34m:\u001b[0m\u001b[0;34m\u001b[0m\u001b[0;34m\u001b[0m\u001b[0m\n\u001b[0;32m--> 143\u001b[0;31m     \u001b[0mget_ipython\u001b[0m\u001b[0;34m(\u001b[0m\u001b[0;34m)\u001b[0m\u001b[0;34m.\u001b[0m\u001b[0mrun_line_magic\u001b[0m\u001b[0;34m(\u001b[0m\u001b[0;34m'timeit'\u001b[0m\u001b[0;34m,\u001b[0m \u001b[0;34m'-n 1 -r 1 display(play(random_player, random_player, N = 1000))'\u001b[0m\u001b[0;34m)\u001b[0m\u001b[0;34m\u001b[0m\u001b[0;34m\u001b[0m\u001b[0m\n\u001b[0m",
      "\u001b[0;32m~/.conda/envs/CS7320-AI/lib/python3.8/site-packages/IPython/core/interactiveshell.py\u001b[0m in \u001b[0;36mrun_line_magic\u001b[0;34m(self, magic_name, line, _stack_depth)\u001b[0m\n\u001b[1;32m   2325\u001b[0m                 \u001b[0mkwargs\u001b[0m\u001b[0;34m[\u001b[0m\u001b[0;34m'local_ns'\u001b[0m\u001b[0;34m]\u001b[0m \u001b[0;34m=\u001b[0m \u001b[0mself\u001b[0m\u001b[0;34m.\u001b[0m\u001b[0mget_local_scope\u001b[0m\u001b[0;34m(\u001b[0m\u001b[0mstack_depth\u001b[0m\u001b[0;34m)\u001b[0m\u001b[0;34m\u001b[0m\u001b[0;34m\u001b[0m\u001b[0m\n\u001b[1;32m   2326\u001b[0m             \u001b[0;32mwith\u001b[0m \u001b[0mself\u001b[0m\u001b[0;34m.\u001b[0m\u001b[0mbuiltin_trap\u001b[0m\u001b[0;34m:\u001b[0m\u001b[0;34m\u001b[0m\u001b[0;34m\u001b[0m\u001b[0m\n\u001b[0;32m-> 2327\u001b[0;31m                 \u001b[0mresult\u001b[0m \u001b[0;34m=\u001b[0m \u001b[0mfn\u001b[0m\u001b[0;34m(\u001b[0m\u001b[0;34m*\u001b[0m\u001b[0margs\u001b[0m\u001b[0;34m,\u001b[0m \u001b[0;34m**\u001b[0m\u001b[0mkwargs\u001b[0m\u001b[0;34m)\u001b[0m\u001b[0;34m\u001b[0m\u001b[0;34m\u001b[0m\u001b[0m\n\u001b[0m\u001b[1;32m   2328\u001b[0m             \u001b[0;32mreturn\u001b[0m \u001b[0mresult\u001b[0m\u001b[0;34m\u001b[0m\u001b[0;34m\u001b[0m\u001b[0m\n\u001b[1;32m   2329\u001b[0m \u001b[0;34m\u001b[0m\u001b[0m\n",
      "\u001b[0;32m<decorator-gen-53>\u001b[0m in \u001b[0;36mtimeit\u001b[0;34m(self, line, cell, local_ns)\u001b[0m\n",
      "\u001b[0;32m~/.conda/envs/CS7320-AI/lib/python3.8/site-packages/IPython/core/magic.py\u001b[0m in \u001b[0;36m<lambda>\u001b[0;34m(f, *a, **k)\u001b[0m\n\u001b[1;32m    185\u001b[0m     \u001b[0;31m# but it's overkill for just that one bit of state.\u001b[0m\u001b[0;34m\u001b[0m\u001b[0;34m\u001b[0m\u001b[0;34m\u001b[0m\u001b[0m\n\u001b[1;32m    186\u001b[0m     \u001b[0;32mdef\u001b[0m \u001b[0mmagic_deco\u001b[0m\u001b[0;34m(\u001b[0m\u001b[0marg\u001b[0m\u001b[0;34m)\u001b[0m\u001b[0;34m:\u001b[0m\u001b[0;34m\u001b[0m\u001b[0;34m\u001b[0m\u001b[0m\n\u001b[0;32m--> 187\u001b[0;31m         \u001b[0mcall\u001b[0m \u001b[0;34m=\u001b[0m \u001b[0;32mlambda\u001b[0m \u001b[0mf\u001b[0m\u001b[0;34m,\u001b[0m \u001b[0;34m*\u001b[0m\u001b[0ma\u001b[0m\u001b[0;34m,\u001b[0m \u001b[0;34m**\u001b[0m\u001b[0mk\u001b[0m\u001b[0;34m:\u001b[0m \u001b[0mf\u001b[0m\u001b[0;34m(\u001b[0m\u001b[0;34m*\u001b[0m\u001b[0ma\u001b[0m\u001b[0;34m,\u001b[0m \u001b[0;34m**\u001b[0m\u001b[0mk\u001b[0m\u001b[0;34m)\u001b[0m\u001b[0;34m\u001b[0m\u001b[0;34m\u001b[0m\u001b[0m\n\u001b[0m\u001b[1;32m    188\u001b[0m \u001b[0;34m\u001b[0m\u001b[0m\n\u001b[1;32m    189\u001b[0m         \u001b[0;32mif\u001b[0m \u001b[0mcallable\u001b[0m\u001b[0;34m(\u001b[0m\u001b[0marg\u001b[0m\u001b[0;34m)\u001b[0m\u001b[0;34m:\u001b[0m\u001b[0;34m\u001b[0m\u001b[0;34m\u001b[0m\u001b[0m\n",
      "\u001b[0;32m~/.conda/envs/CS7320-AI/lib/python3.8/site-packages/IPython/core/magics/execution.py\u001b[0m in \u001b[0;36mtimeit\u001b[0;34m(self, line, cell, local_ns)\u001b[0m\n\u001b[1;32m   1171\u001b[0m                     \u001b[0;32mbreak\u001b[0m\u001b[0;34m\u001b[0m\u001b[0;34m\u001b[0m\u001b[0m\n\u001b[1;32m   1172\u001b[0m \u001b[0;34m\u001b[0m\u001b[0m\n\u001b[0;32m-> 1173\u001b[0;31m         \u001b[0mall_runs\u001b[0m \u001b[0;34m=\u001b[0m \u001b[0mtimer\u001b[0m\u001b[0;34m.\u001b[0m\u001b[0mrepeat\u001b[0m\u001b[0;34m(\u001b[0m\u001b[0mrepeat\u001b[0m\u001b[0;34m,\u001b[0m \u001b[0mnumber\u001b[0m\u001b[0;34m)\u001b[0m\u001b[0;34m\u001b[0m\u001b[0;34m\u001b[0m\u001b[0m\n\u001b[0m\u001b[1;32m   1174\u001b[0m         \u001b[0mbest\u001b[0m \u001b[0;34m=\u001b[0m \u001b[0mmin\u001b[0m\u001b[0;34m(\u001b[0m\u001b[0mall_runs\u001b[0m\u001b[0;34m)\u001b[0m \u001b[0;34m/\u001b[0m \u001b[0mnumber\u001b[0m\u001b[0;34m\u001b[0m\u001b[0;34m\u001b[0m\u001b[0m\n\u001b[1;32m   1175\u001b[0m         \u001b[0mworst\u001b[0m \u001b[0;34m=\u001b[0m \u001b[0mmax\u001b[0m\u001b[0;34m(\u001b[0m\u001b[0mall_runs\u001b[0m\u001b[0;34m)\u001b[0m \u001b[0;34m/\u001b[0m \u001b[0mnumber\u001b[0m\u001b[0;34m\u001b[0m\u001b[0;34m\u001b[0m\u001b[0m\n",
      "\u001b[0;32m~/.conda/envs/CS7320-AI/lib/python3.8/timeit.py\u001b[0m in \u001b[0;36mrepeat\u001b[0;34m(self, repeat, number)\u001b[0m\n\u001b[1;32m    203\u001b[0m         \u001b[0mr\u001b[0m \u001b[0;34m=\u001b[0m \u001b[0;34m[\u001b[0m\u001b[0;34m]\u001b[0m\u001b[0;34m\u001b[0m\u001b[0;34m\u001b[0m\u001b[0m\n\u001b[1;32m    204\u001b[0m         \u001b[0;32mfor\u001b[0m \u001b[0mi\u001b[0m \u001b[0;32min\u001b[0m \u001b[0mrange\u001b[0m\u001b[0;34m(\u001b[0m\u001b[0mrepeat\u001b[0m\u001b[0;34m)\u001b[0m\u001b[0;34m:\u001b[0m\u001b[0;34m\u001b[0m\u001b[0;34m\u001b[0m\u001b[0m\n\u001b[0;32m--> 205\u001b[0;31m             \u001b[0mt\u001b[0m \u001b[0;34m=\u001b[0m \u001b[0mself\u001b[0m\u001b[0;34m.\u001b[0m\u001b[0mtimeit\u001b[0m\u001b[0;34m(\u001b[0m\u001b[0mnumber\u001b[0m\u001b[0;34m)\u001b[0m\u001b[0;34m\u001b[0m\u001b[0;34m\u001b[0m\u001b[0m\n\u001b[0m\u001b[1;32m    206\u001b[0m             \u001b[0mr\u001b[0m\u001b[0;34m.\u001b[0m\u001b[0mappend\u001b[0m\u001b[0;34m(\u001b[0m\u001b[0mt\u001b[0m\u001b[0;34m)\u001b[0m\u001b[0;34m\u001b[0m\u001b[0;34m\u001b[0m\u001b[0m\n\u001b[1;32m    207\u001b[0m         \u001b[0;32mreturn\u001b[0m \u001b[0mr\u001b[0m\u001b[0;34m\u001b[0m\u001b[0;34m\u001b[0m\u001b[0m\n",
      "\u001b[0;32m~/.conda/envs/CS7320-AI/lib/python3.8/site-packages/IPython/core/magics/execution.py\u001b[0m in \u001b[0;36mtimeit\u001b[0;34m(self, number)\u001b[0m\n\u001b[1;32m    167\u001b[0m         \u001b[0mgc\u001b[0m\u001b[0;34m.\u001b[0m\u001b[0mdisable\u001b[0m\u001b[0;34m(\u001b[0m\u001b[0;34m)\u001b[0m\u001b[0;34m\u001b[0m\u001b[0;34m\u001b[0m\u001b[0m\n\u001b[1;32m    168\u001b[0m         \u001b[0;32mtry\u001b[0m\u001b[0;34m:\u001b[0m\u001b[0;34m\u001b[0m\u001b[0;34m\u001b[0m\u001b[0m\n\u001b[0;32m--> 169\u001b[0;31m             \u001b[0mtiming\u001b[0m \u001b[0;34m=\u001b[0m \u001b[0mself\u001b[0m\u001b[0;34m.\u001b[0m\u001b[0minner\u001b[0m\u001b[0;34m(\u001b[0m\u001b[0mit\u001b[0m\u001b[0;34m,\u001b[0m \u001b[0mself\u001b[0m\u001b[0;34m.\u001b[0m\u001b[0mtimer\u001b[0m\u001b[0;34m)\u001b[0m\u001b[0;34m\u001b[0m\u001b[0;34m\u001b[0m\u001b[0m\n\u001b[0m\u001b[1;32m    170\u001b[0m         \u001b[0;32mfinally\u001b[0m\u001b[0;34m:\u001b[0m\u001b[0;34m\u001b[0m\u001b[0;34m\u001b[0m\u001b[0m\n\u001b[1;32m    171\u001b[0m             \u001b[0;32mif\u001b[0m \u001b[0mgcold\u001b[0m\u001b[0;34m:\u001b[0m\u001b[0;34m\u001b[0m\u001b[0;34m\u001b[0m\u001b[0m\n",
      "\u001b[0;32m<magic-timeit>\u001b[0m in \u001b[0;36minner\u001b[0;34m(_it, _timer)\u001b[0m\n",
      "\u001b[0;32m<ipython-input-3-f23fcd3bcfe2>\u001b[0m in \u001b[0;36mplay\u001b[0;34m(r, y, N)\u001b[0m\n\u001b[1;32m    100\u001b[0m \u001b[0;34m\u001b[0m\u001b[0m\n\u001b[1;32m    101\u001b[0m         \u001b[0;32mwhile\u001b[0m \u001b[0;32mTrue\u001b[0m\u001b[0;34m:\u001b[0m\u001b[0;34m\u001b[0m\u001b[0;34m\u001b[0m\u001b[0m\n\u001b[0;32m--> 102\u001b[0;31m             \u001b[0mr\u001b[0m \u001b[0;34m=\u001b[0m \u001b[0mfun\u001b[0m\u001b[0;34m(\u001b[0m\u001b[0mboard\u001b[0m\u001b[0;34m,\u001b[0m \u001b[0mplayer\u001b[0m\u001b[0;34m)\u001b[0m\u001b[0;34m\u001b[0m\u001b[0;34m\u001b[0m\u001b[0m\n\u001b[0m\u001b[1;32m    103\u001b[0m             \u001b[0mboard\u001b[0m \u001b[0;34m=\u001b[0m \u001b[0mresult\u001b[0m\u001b[0;34m(\u001b[0m\u001b[0mboard\u001b[0m\u001b[0;34m,\u001b[0m \u001b[0mplayer\u001b[0m\u001b[0;34m,\u001b[0m \u001b[0mr\u001b[0m\u001b[0;34m)\u001b[0m\u001b[0;34m\u001b[0m\u001b[0;34m\u001b[0m\u001b[0m\n\u001b[1;32m    104\u001b[0m \u001b[0;34m\u001b[0m\u001b[0m\n",
      "\u001b[0;31mTypeError\u001b[0m: 'numpy.int64' object is not callable"
     ]
    }
   ],
   "source": [
    "\"\"\"sources\"\"\"\n",
    "# winning_move() and its kernels -> https://stackoverflow.com/a/63991845\n",
    "# in get_actions_ordered(): removing array elements from another array -> https://stackoverflow.com/a/66695755\n",
    "\n",
    "\"\"\"imports\"\"\"\n",
    "from scipy.signal import convolve2d\n",
    "import sys\n",
    "import numpy as np\n",
    "import math\n",
    "\n",
    "\"\"\"rng seeding\"\"\"\n",
    "np.random.seed(0)\n",
    "\n",
    "\"\"\"constants\"\"\"\n",
    "DEBUG = 0\n",
    "HEIGHT = 4\n",
    "WIDTH = 7\n",
    "\n",
    "\"\"\"kernels for winning_move()\"\"\"\n",
    "horizontal_kernel = np.array([[ 1, 1, 1, 1]])\n",
    "vertical_kernel = np.transpose(horizontal_kernel)\n",
    "diag1_kernel = np.eye(4, dtype=np.uint8)\n",
    "diag2_kernel = np.fliplr(diag1_kernel)\n",
    "detection_kernels = [horizontal_kernel, vertical_kernel, diag1_kernel, diag2_kernel]\n",
    "\n",
    "def empty_board(shape=(HEIGHT, WIDTH)):\n",
    "    return np.zeros(shape=shape)\n",
    "\n",
    "def winning_move(board, player):\n",
    "    # TODO: if(player > 0), convolve(board > 0)\n",
    "    # TODO: if(player < 0), convolve(board < 0)\n",
    "    for kernel in detection_kernels:\n",
    "        if (convolve2d(board == player, kernel, mode=\"valid\") == 4).any():\n",
    "            return True\n",
    "    return False\n",
    "\n",
    "def check_win(board):\n",
    "    \"\"\"check the board and return one of 1, -1, d (draw), or n (for next move)\"\"\"\n",
    "    \n",
    "    # check for win\n",
    "    if(winning_move(board, 1)): return 'r'\n",
    "    if(winning_move(board, -1)): return 'y'\n",
    "    \n",
    "    # check for draw\n",
    "    if(np.sum(board == 0) < 1): return 'd'\n",
    "    \n",
    "    return 'n'\n",
    "\n",
    "def get_actions(board):\n",
    "    \"\"\"Returns non-full columns as a vector of indices\"\"\"\n",
    "    top_row = board[0][0:WIDTH]\n",
    "    if(DEBUG): print(top_row)\n",
    "    actions = np.where(top_row == 0)[0]\n",
    "    if(DEBUG): print(actions)\n",
    "    return actions\n",
    "\n",
    "def other(player): \n",
    "    if player > 0: return -1\n",
    "    else: return 1\n",
    "\n",
    "def result(state, player, action):\n",
    "    \"\"\"Add move to the board\"\"\"\n",
    "    state = state.copy()\n",
    "    for i in range(HEIGHT):\n",
    "        if(state[HEIGHT-i-1][action] == 0):\n",
    "            state[HEIGHT-i-1][action] = player\n",
    "            return state\n",
    "    sys.exit('error -> column full')\n",
    "\n",
    "def utility(state, player = 1):\n",
    "    \"\"\"check if a state is terminal and return the utility if it is. None means not a terminal mode.\"\"\"\n",
    "    goal = check_win(state)        \n",
    "    if goal == player: return +1 \n",
    "    if goal == 'd': return 0  \n",
    "    if goal == other(player): return -1  # loss is failure\n",
    "    return None # continue\n",
    "\n",
    "def is_terminal(state): \n",
    "    \"\"\"check is a state is a terminal state\"\"\"\n",
    "    return check_win(state) != \"n\"\n",
    "\n",
    "def random_player(board, player = None):\n",
    "    \"\"\"Simple player that chooses a random unfilled column.\n",
    "       The function argument named 'player' is unused.\"\"\"\n",
    "    action = np.random.choice(get_actions(board), size=None, replace=False)\n",
    "    if(DEBUG): print(action)\n",
    "    return action\n",
    "\n",
    "def switch_player(player, r, y):\n",
    "    if player > 0:\n",
    "        return -1, y\n",
    "    else:\n",
    "        return 1, r\n",
    "\n",
    "def play(r, y, N = 1):\n",
    "    results = {'r': 0, 'y': 0, 'd': 0}\n",
    "    for i in range(N):\n",
    "        board = empty_board()\n",
    "        player, fun = 1, r\n",
    "        \n",
    "        while True:\n",
    "            r = fun(board, player)\n",
    "            board = result(board, player, r)\n",
    "            \n",
    "            win = check_win(board)\n",
    "            if win != 'n':\n",
    "                results[win] += 1\n",
    "                break\n",
    "            \n",
    "            player, fun = switch_player(player, r, y)\n",
    "    return results\n",
    "\n",
    "    \n",
    "if(DEBUG>1):\n",
    "    \"\"\"Test check_win\"\"\"\n",
    "    board = empty_board()\n",
    "    for i in range(4): board = result(board, 1, 0)\n",
    "    print(board)\n",
    "    print('Win? ' + check_win(board))\n",
    "    print()\n",
    "    board = empty_board()\n",
    "    for i in range(4): board = result(board, -1, 0)\n",
    "    print(board)\n",
    "    print('Win? ' + check_win(board))\n",
    "    print()\n",
    "    board = empty_board()\n",
    "    print(board)\n",
    "    print('Win? ' + check_win(board))\n",
    "    print()\n",
    "    \n",
    "    \"\"\"Test utility\"\"\"\n",
    "    print(utility(np.full(shape=[HEIGHT, WIDTH], fill_value= 1)))\n",
    "    print(utility(np.full(shape=[HEIGHT, WIDTH], fill_value= -1)))\n",
    "    print(utility(empty_board()))\n",
    "    print()\n",
    "    \n",
    "    \"\"\"Test is_terminal\"\"\"\n",
    "    print(is_terminal(np.full(shape=[HEIGHT, WIDTH], fill_value= 1)))\n",
    "    print(is_terminal(np.full(shape=[HEIGHT, WIDTH], fill_value= -1)))\n",
    "    print(is_terminal(empty_board()))\n",
    "    \n",
    "if(DEBUG<2):\n",
    "    %timeit -n 1 -r 1 display(play(random_player, random_player, N = 1000))"
   ]
  },
  {
   "cell_type": "markdown",
   "metadata": {},
   "source": [
    "* With a standard 6x7 board, player 'x' won 560 times and player 'o' won 437 times.\n",
    "* I expected this result, because player 'x' always goes first. This makes it more likely for player 'x' to win, because they are the first player that is able to win the game (on their fourth turn) and always has more or equal the number of turns taken compared to player 'o'."
   ]
  },
  {
   "cell_type": "markdown",
   "metadata": {},
   "source": [
    "## Task 3: Minimax Search with Alpha-Beta Pruning [4 points]\n",
    "\n",
    "### Implement the search starting from a given board and specifying the player.\n",
    "\n",
    "__Note:__ The search space for a $6 \\times 7$ board is large. You can experiment with smaller boards (the smallest is $4 \\times 4$) and/or changing the winning rule to connect 3 instead of 4."
   ]
  },
  {
   "cell_type": "code",
   "execution_count": null,
   "metadata": {},
   "outputs": [],
   "source": [
    "\"\"\"constants\"\"\"\n",
    "DEBUG_ = 0 # 1 ... count nodes, 2 ... debug each node\n",
    "COUNT = 0\n",
    "\n",
    "def get_actions_ordered(board):\n",
    "    \"\"\"return possible actions as a vector of priority-ordered indices\"\"\"\n",
    "    priority = np.array([3,4,2,5,1,6,0]) # hard-coded for 7-column board\n",
    "    \n",
    "    all_actions = np.arange(WIDTH)\n",
    "    valid_actions = get_actions(board)\n",
    "    \n",
    "    # get invalid actions\n",
    "    indices = np.argwhere(np.isin(all_actions,valid_actions))\n",
    "    invalid_actions = np.delete(all_actions,indices)\n",
    "    \n",
    "    # remove invalid actions from priority list\n",
    "    indices = np.argwhere(np.isin(priority,invalid_actions))\n",
    "    priority = np.delete(priority,indices)\n",
    "\n",
    "    if(DEBUG): print(priority)\n",
    "    return priority\n",
    "\n",
    "if(DEBUG>2):\n",
    "    board = empty_board()   \n",
    "    print(board)\n",
    "    get_actions_ordered(board)\n",
    "\n",
    "def alpha_beta_search(board, player = 'x'):\n",
    "    \"\"\"start the search.\"\"\"\n",
    "    global DEBUG_, COUNT\n",
    "    COUNT = 0\n",
    "    \n",
    "    value, move = max_value_ab(board, player, -math.inf, +math.inf)\n",
    "    \n",
    "    if DEBUG_ >= 1: print(f\"Number of nodes searched: {COUNT}\") \n",
    "    \n",
    "    return value, move\n",
    "\n",
    "def max_value_ab(state, player, alpha, beta):\n",
    "    \"\"\"player's best move.\"\"\"\n",
    "    global DEBUG_, COUNT\n",
    "    COUNT += 1\n",
    "       \n",
    "    # return utility of state IF it is a terminal state\n",
    "    v = utility(state, player)\n",
    "    if DEBUG_ >= 2:\n",
    "        print(\"max: \")\n",
    "        print( str(state) + str([alpha, beta, v]) )\n",
    "    if v is not None: return v, None\n",
    "        \n",
    "    v, move = -math.inf, None\n",
    "\n",
    "    # check all possible actions in the state, update alpha and return move with the largest value\n",
    "    for a in get_actions_ordered(state):\n",
    "        v2, a2 = min_value_ab(result(state, player, a), player, alpha, beta)\n",
    "        if v2 > v:\n",
    "            v, move = v2, a\n",
    "            alpha = max(alpha, v)\n",
    "        if v >= beta: return v, move\n",
    "    \n",
    "    return v, move\n",
    "\n",
    "def min_value_ab(state, player, alpha, beta):\n",
    "    \"\"\"opponent's best response.\"\"\"\n",
    "    global DEBUG_, COUNT\n",
    "    COUNT += 1\n",
    "    \n",
    "    # return utility of state IF it is a terminal state\n",
    "    v = utility(state, player)\n",
    "    if DEBUG_ >= 2:\n",
    "        print(\"min: \")\n",
    "        print( str(state) + str([alpha, beta, v]) ) \n",
    "    if v is not None: return v, None\n",
    "    \n",
    "    v, move = +math.inf, None\n",
    "\n",
    "    # check all possible actions in the state, update beta and return move with the smallest value\n",
    "    for a in get_actions_ordered(state):\n",
    "        v2, a2 = max_value_ab(result(state, other(player), a), player, alpha, beta)\n",
    "        if v2 < v:\n",
    "            v, move = v2, a\n",
    "            beta = min(beta, v)\n",
    "        if v <= alpha: return v, move\n",
    "    \n",
    "    return v, move"
   ]
  },
  {
   "cell_type": "markdown",
   "metadata": {},
   "source": [
    "Experiment with some manually created boards (at least 5) to check if the agent spots winning opportunities."
   ]
  },
  {
   "cell_type": "code",
   "execution_count": null,
   "metadata": {
    "scrolled": false
   },
   "outputs": [],
   "source": [
    "# x is about to win (play in column 2)\n",
    "\n",
    "board = np.array([[0,0,0,0,0,0,0],\n",
    "                  [1,0,0,-1,0,-1,1],\n",
    "                  [-1,1,-1,1,-1,1,-1],\n",
    "                  [1,-1,1,-1,1,1,-1],\n",
    "                  [1,-1,1,-1,1,1,1],\n",
    "                  [1,-1,-1,-1,1,-1,-1],\n",
    "                  [-1,1,-1,1,-1,1,-1]])\n",
    "\n",
    "\n",
    "print(\"Board:\")\n",
    "print(board)\n",
    "\n",
    "print()\n",
    "%timeit -n 1 -r 1 display(alpha_beta_search(board))"
   ]
  },
  {
   "cell_type": "code",
   "execution_count": null,
   "metadata": {
    "scrolled": false
   },
   "outputs": [],
   "source": [
    "# x is about to win (play in column 2)\n",
    "\n",
    "board = np.array([[' ',' ',' ',' ',' ',' ',' '],\n",
    "                  ['x',' ',' ','o',' ','o','x'],\n",
    "                  ['o','x','o','x','o','x','o'],\n",
    "                  ['x','o','x','o','x','x','o'],\n",
    "                  ['x','o','x','o','x','x','x'],\n",
    "                  ['x','o','o','o','x','o','o'],\n",
    "                  ['o','x','o','x','o','x','o']])\n",
    "\n",
    "\n",
    "print(\"Board:\")\n",
    "print(board)\n",
    "\n",
    "print()\n",
    "%timeit -n 1 -r 1 display(alpha_beta_search(board))"
   ]
  },
  {
   "cell_type": "code",
   "execution_count": null,
   "metadata": {
    "scrolled": false
   },
   "outputs": [],
   "source": [
    "# x is about to win (play in column 5)\n",
    "\n",
    "board = np.array([[' ',' ',' ',' ',' ',' ','x'],\n",
    "                  ['x','o','o','o','x','o','x'],\n",
    "                  ['o','x','o','x','o','x','o'],\n",
    "                  ['x','o','x','o','x','x','o'],\n",
    "                  ['x','o','x','o','x','x','x'],\n",
    "                  ['x','o','o','o','x','o','o'],\n",
    "                  ['o','x','o','x','o','x','o']])\n",
    "\n",
    "\n",
    "print(\"Board:\")\n",
    "print(board)\n",
    "\n",
    "print()\n",
    "%timeit -n 1 -r 1 display(alpha_beta_search(board))"
   ]
  },
  {
   "cell_type": "code",
   "execution_count": null,
   "metadata": {
    "scrolled": false
   },
   "outputs": [],
   "source": [
    "# x can draw if it chooses 0.\n",
    "\n",
    "board = np.array([[' ',' ',' ',' ','x','o','x'],\n",
    "                  ['x','o','o','o','x','o','x'],\n",
    "                  ['o','x','o','x','o','x','o'],\n",
    "                  ['x','o','x','o','x','x','o'],\n",
    "                  ['x','o','x','o','x','x','x'],\n",
    "                  ['x','o','o','o','x','o','o'],\n",
    "                  ['o','x','o','x','o','x','o']])\n",
    "\n",
    "\n",
    "print(\"Board:\")\n",
    "print(board)\n",
    "\n",
    "print()\n",
    "%timeit -n 1 -r 1 display(alpha_beta_search(board))"
   ]
  },
  {
   "cell_type": "code",
   "execution_count": null,
   "metadata": {
    "scrolled": false
   },
   "outputs": [],
   "source": [
    "# x can win if it chooses 3. Even though x is preventing o from winning this turn, a subtle shift also occurs\n",
    "# where x is guaranteed to win since both players play the best moves (in terms of strategy, not speed).\n",
    "\n",
    "board = np.array([[' ',' ',' ',' ',' ',' ',' '],\n",
    "                  [' ',' ',' ',' ',' ','o',' '],\n",
    "                  [' ','x','o','x',' ','x',' '],\n",
    "                  ['x','o','x','o',' ','o','x'],\n",
    "                  ['o','o','x','o','x','o','x'],\n",
    "                  ['x','x','o','o','x','o','o'],\n",
    "                  ['o','x','o','x','o','x','x']])\n",
    "\n",
    "\n",
    "print(\"Board:\")\n",
    "print(board)\n",
    "\n",
    "print()\n",
    "%timeit -n 1 -r 1 display(alpha_beta_search(board))"
   ]
  },
  {
   "cell_type": "code",
   "execution_count": null,
   "metadata": {
    "scrolled": false
   },
   "outputs": [],
   "source": [
    "# x can win if it chooses ?.\n",
    "\n",
    "board = np.array([[' ',' ',' ',' ',' ',' ',' '],\n",
    "                  [' ',' ',' ',' ',' ',' ',' '],\n",
    "                  [' ',' ',' ',' ',' ','x',' '],\n",
    "                  ['x','o',' ',' ',' ','o',' '],\n",
    "                  ['o','o','x',' ','x','o','x'],\n",
    "                  ['x','x','o','o','x','o','o'],\n",
    "                  ['o','x','o','x','o','x','x']])\n",
    "\n",
    "\n",
    "print(\"Board:\")\n",
    "print(board)\n",
    "\n",
    "print()\n",
    "%timeit -n 1 -r 1 display(alpha_beta_search(board))"
   ]
  },
  {
   "cell_type": "markdown",
   "metadata": {},
   "source": [
    "How long does it take to make a move? Start with a smaller board with 4 columns and make the board larger by adding columns.\n",
    "\n",
    "* For a 6x7 board and no move ordering, alpha-beta search takes an substantial amount of time to make a move.\n",
    "* With a 6x4 board and no move ordering, the interpreter only took about a second and a half to make a move."
   ]
  },
  {
   "cell_type": "markdown",
   "metadata": {},
   "source": [
    "### Move ordering\n",
    "\n",
    "Describe and implement a simple move ordering strategy. How does this strategy influence the time it takes to \n",
    "make a move?\n",
    "\n",
    "* My implementation for move ordering is above my alpha-beta search function. The agent prioritizes centralized moves over moves towards the edges of the board. This strategy significantly reduces the time it takes to make a move, because terminal states are reached faster when better moves are considered first that generally allow for more future winning opportunities."
   ]
  },
  {
   "cell_type": "markdown",
   "metadata": {},
   "source": [
    "### Playtime\n",
    "\n",
    "Let the Minimax Search agent play a random agent on a small board. Analyze wins, losses and draws."
   ]
  },
  {
   "cell_type": "code",
   "execution_count": null,
   "metadata": {},
   "outputs": [],
   "source": [
    "# Your code/ answer goes here."
   ]
  },
  {
   "cell_type": "markdown",
   "metadata": {},
   "source": [
    "## Task 4: Heuristic Alpha-Beta Tree Search [3 points] \n",
    "\n",
    "### Heuristic evaluation function\n",
    "\n",
    "Define and implement a heuristic evaluation function."
   ]
  },
  {
   "cell_type": "code",
   "execution_count": null,
   "metadata": {},
   "outputs": [],
   "source": [
    "# Your code/ answer goes here."
   ]
  },
  {
   "cell_type": "markdown",
   "metadata": {},
   "source": [
    "### Cutting off search \n",
    "\n",
    "Modify your Minimax Search with Alpha-Beta Pruning to cut off search at a specified depth and use the heuristic evaluation function. Experiment with different cutoff values."
   ]
  },
  {
   "cell_type": "code",
   "execution_count": null,
   "metadata": {},
   "outputs": [],
   "source": [
    "# Your code/ answer goes here."
   ]
  },
  {
   "cell_type": "markdown",
   "metadata": {},
   "source": [
    "Experiment with the same manually created boards as above to check if the agent spots wining opportunities."
   ]
  },
  {
   "cell_type": "code",
   "execution_count": null,
   "metadata": {},
   "outputs": [],
   "source": [
    "# Your code/ answer goes here."
   ]
  },
  {
   "cell_type": "markdown",
   "metadata": {},
   "source": [
    "How long does it take to make a move? Start with a smaller board with 4 columns and make the board larger by adding columns."
   ]
  },
  {
   "cell_type": "code",
   "execution_count": null,
   "metadata": {},
   "outputs": [],
   "source": [
    "# Your code/ answer goes here."
   ]
  },
  {
   "cell_type": "markdown",
   "metadata": {},
   "source": [
    "### Playtime\n",
    "\n",
    "Let two heuristic search agents (different cutoff depth or different heuristic evaluation function) compete against each other on a reasonably sized board. Since there is no randomness, you only need to let them play once."
   ]
  },
  {
   "cell_type": "code",
   "execution_count": null,
   "metadata": {},
   "outputs": [],
   "source": [
    "# Your code/ answer goes here."
   ]
  },
  {
   "cell_type": "markdown",
   "metadata": {},
   "source": [
    "## Challenge task [+ 1 bonus point]\n",
    "\n",
    "Find another student and let your best agent play against the other student's best player. We will set up a class tournament on Canvas. This tournament will continue after the submission deadline."
   ]
  },
  {
   "cell_type": "markdown",
   "metadata": {},
   "source": [
    "## Graduate student advanced task: Pure Monte Carlo Search and Best First Move [1 point]\n",
    "\n",
    "__Undergraduate students:__ This is a bonus task you can attempt if you like [+1 Bonus point].\n",
    "\n",
    "### Pure Monte Carlos Search\n",
    "\n",
    "Implement Pure Monte Carlo Search and investigate how this search performs on the test boards that you have used above. "
   ]
  },
  {
   "cell_type": "code",
   "execution_count": null,
   "metadata": {},
   "outputs": [],
   "source": [
    "# Your code/ answer goes here."
   ]
  },
  {
   "cell_type": "markdown",
   "metadata": {},
   "source": [
    "### Best First Move\n",
    "\n",
    "How would you determine what the best first move is? You can use Pure Monte Carlo Search or any algorithms \n",
    "that you have implemented above."
   ]
  },
  {
   "cell_type": "code",
   "execution_count": null,
   "metadata": {},
   "outputs": [],
   "source": [
    "# Your code/ answer goes here."
   ]
  }
 ],
 "metadata": {
  "kernelspec": {
   "display_name": "Python 3",
   "language": "python",
   "name": "python3"
  },
  "language_info": {
   "codemirror_mode": {
    "name": "ipython",
    "version": 3
   },
   "file_extension": ".py",
   "mimetype": "text/x-python",
   "name": "python",
   "nbconvert_exporter": "python",
   "pygments_lexer": "ipython3",
   "version": "3.8.5"
  }
 },
 "nbformat": 4,
 "nbformat_minor": 4
}
