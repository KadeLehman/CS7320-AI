{
 "cells": [
  {
   "cell_type": "markdown",
   "metadata": {},
   "source": [
    "# Adversarial Search: Playing Connect 4\n",
    "\n",
    "\n",
    "## Instructions\n",
    "\n",
    "Total Points: Undegraduates 10, graduate students 11\n",
    "\n",
    "Complete this notebook and submit it. The notebook needs to be a complete project report with your implementation, documentation including a short discussion of how your implementation works and your design choices, and experimental results (e.g., tables and charts with simulation results) with a short discussion of what they mean. Use the provided notebook cells and insert additional code and markdown cells as needed.\n",
    "\n",
    "## Introduction\n",
    "\n",
    "You will implement different versions of agents that play Connect 4:\n",
    "\n",
    "> \"Connect 4 is a two-player connection board game, in which the players choose a color and then take turns dropping colored discs into a seven-column, six-row vertically suspended grid. The pieces fall straight down, occupying the lowest available space within the column. The objective of the game is to be the first to form a horizontal, vertical, or diagonal line of four of one's own discs.\" (see [Connect Four on Wikipedia](https://en.wikipedia.org/wiki/Connect_Four))"
   ]
  },
  {
   "cell_type": "markdown",
   "metadata": {},
   "source": [
    "## Task 1: Defining the Search Problem [1 point]\n",
    "\n",
    "Define the components of the search problem:\n",
    "\n",
    "* Initial state: an empty board.\n",
    "* Actions: unfilled columns, {0-6} at game start.\n",
    "* Transition model: When a player drops a piece, it falls straight down to the lowest available space in the column.\n",
    "* Goal state: Four of the player's pieces are lined up vertically, horizontally, or diagonally."
   ]
  },
  {
   "cell_type": "markdown",
   "metadata": {},
   "source": [
    "Each of the 42 squares can have three values (empty, x, or o). However,\n",
    "* pieces cannot float above empty squares\n",
    "* the # of x's is always within one of the # of o's\n",
    "* both players can't have 4-in-a-row at once, etc.\n",
    "\n",
    "So, the search space has significantly less than this number of states:"
   ]
  },
  {
   "cell_type": "code",
   "execution_count": 1,
   "metadata": {},
   "outputs": [
    {
     "name": "stdout",
     "output_type": "stream",
     "text": [
      "109418989131512359209\n",
      "1.1e+20\n"
     ]
    }
   ],
   "source": [
    "print(3**42)\n",
    "print('{:.1e}'.format(3**42))"
   ]
  },
  {
   "cell_type": "markdown",
   "metadata": {},
   "source": [
    "## Task 2: Game Environment and Random Agent [2 point]\n",
    "\n",
    "Implement an agent that plays randomly and let two random agents play against each other 1000 times. How often does each player win? Is the result expected?"
   ]
  },
  {
   "cell_type": "code",
   "execution_count": 29,
   "metadata": {
    "scrolled": false
   },
   "outputs": [
    {
     "name": "stdout",
     "output_type": "stream",
     "text": [
      "[[' ' ' ' ' ' ' ' ' ' ' ' ' ']\n",
      " [' ' ' ' ' ' ' ' ' ' ' ' ' ']\n",
      " ['x' ' ' ' ' ' ' ' ' ' ' ' ']\n",
      " ['x' ' ' ' ' ' ' ' ' ' ' ' ']\n",
      " ['x' ' ' ' ' ' ' ' ' ' ' ' ']\n",
      " ['x' ' ' ' ' ' ' ' ' ' ' ' ']]\n",
      "Win? x\n",
      "\n",
      "[[' ' ' ' ' ' ' ' ' ' ' ' ' ']\n",
      " [' ' ' ' ' ' ' ' ' ' ' ' ' ']\n",
      " ['o' ' ' ' ' ' ' ' ' ' ' ' ']\n",
      " ['o' ' ' ' ' ' ' ' ' ' ' ' ']\n",
      " ['o' ' ' ' ' ' ' ' ' ' ' ' ']\n",
      " ['o' ' ' ' ' ' ' ' ' ' ' ' ']]\n",
      "Win? o\n",
      "\n",
      "[[' ' ' ' ' ' ' ' ' ' ' ' ' ']\n",
      " [' ' ' ' ' ' ' ' ' ' ' ' ' ']\n",
      " [' ' ' ' ' ' ' ' ' ' ' ' ' ']\n",
      " [' ' ' ' ' ' ' ' ' ' ' ' ' ']\n",
      " [' ' ' ' ' ' ' ' ' ' ' ' ' ']\n",
      " [' ' ' ' ' ' ' ' ' ' ' ' ' ']]\n",
      "Win? n\n",
      "\n",
      "1\n",
      "-1\n",
      "None\n",
      "\n",
      "True\n",
      "True\n",
      "False\n"
     ]
    }
   ],
   "source": [
    "\"\"\"sources\"\"\"\n",
    "# winning_move() and its kernels -> https://stackoverflow.com/a/63991845\n",
    "\n",
    "\"\"\"imports\"\"\"\n",
    "from scipy.signal import convolve2d\n",
    "import sys\n",
    "import numpy as np\n",
    "\n",
    "\"\"\"rng seeding\"\"\"\n",
    "np.random.seed(0)\n",
    "\n",
    "\"\"\"constants\"\"\"\n",
    "DEBUG = 2\n",
    "HEIGHT = 6\n",
    "WIDTH = 7\n",
    "\n",
    "\"\"\"kernels for winning_move()\"\"\"\n",
    "horizontal_kernel = np.array([[ 1, 1, 1, 1]])\n",
    "vertical_kernel = np.transpose(horizontal_kernel)\n",
    "diag1_kernel = np.eye(4, dtype=np.uint8)\n",
    "diag2_kernel = np.fliplr(diag1_kernel)\n",
    "detection_kernels = [horizontal_kernel, vertical_kernel, diag1_kernel, diag2_kernel]\n",
    "\n",
    "def empty_board(shape=(HEIGHT, WIDTH)):\n",
    "    return np.full(shape=shape, fill_value=' ')\n",
    "\n",
    "def winning_move(board, player):\n",
    "    for kernel in detection_kernels:\n",
    "        if (convolve2d(board == player, kernel, mode=\"valid\") == 4).any():\n",
    "            return True\n",
    "    return False\n",
    "\n",
    "def check_win(board):\n",
    "    \"\"\"check the board and return one of x, o, d (draw), or n (for next move)\"\"\"\n",
    "    \n",
    "    # check for win\n",
    "    if(winning_move(board, 'x')): return 'x'\n",
    "    if(winning_move(board, 'o')): return 'o'\n",
    "    \n",
    "    # check for draw\n",
    "    if(np.sum(board == ' ') < 1): return 'd'\n",
    "    \n",
    "    return 'n'\n",
    "\n",
    "def get_actions(board):\n",
    "    \"\"\"Returns non-full columns as a vector of indices\"\"\"\n",
    "    top_row = board[0, 0:7]\n",
    "    actions = np.where(top_row == ' ')[0].tolist()\n",
    "    if(DEBUG): print(actions)\n",
    "    return actions\n",
    "\n",
    "def other(player): \n",
    "    if player == 'x': return 'o'\n",
    "    else: return 'x'\n",
    "\n",
    "def result(state, player, action):\n",
    "    \"\"\"Add move to the board\"\"\"\n",
    "    for i in range(HEIGHT):\n",
    "        if(state[HEIGHT-i-1][action] == ' '):\n",
    "            state[HEIGHT-i-1][action] = player\n",
    "            return state\n",
    "    sys.exit('error -> column full')\n",
    "\n",
    "def utility(state, player = 'x'):\n",
    "    \"\"\"check if a state is terminal and return the utility if it is. None means not a terminal mode.\"\"\"\n",
    "    goal = check_win(state)        \n",
    "    if goal == player: return +1 \n",
    "    if goal == 'd': return 0  \n",
    "    if goal == other(player): return -1  # loss is failure\n",
    "    return None # continue\n",
    "\n",
    "def is_terminal(state): \n",
    "    \"\"\"check is a state is a terminal state\"\"\"\n",
    "    return check_win(state) != \"n\"\n",
    "\n",
    "def random_player(board, player = None):\n",
    "    \"\"\"Simple player that chooses a random unfilled column.\n",
    "       Argument 'player' is unused.\"\"\"\n",
    "    action = np.random.choice(get_actions(board), size=None, replace=False)\n",
    "    if(DEBUG): print(action)\n",
    "    return action\n",
    "\n",
    "def switch_player(player, x, o):\n",
    "    if player == 'x':\n",
    "        return 'o', o\n",
    "    else:\n",
    "        return 'x', x\n",
    "\n",
    "def play(x, o, N = 1):\n",
    "    results = {'x': 0, 'o': 0, 'd': 0}\n",
    "    for i in range(N):\n",
    "        board = empty_board()\n",
    "        player, fun = 'x', x\n",
    "        \n",
    "        while True:\n",
    "            a = fun(board, player)\n",
    "            board = result(board, player, a)\n",
    "            \n",
    "            win = check_win(board)\n",
    "            if win != 'n':\n",
    "                results[win] += 1\n",
    "                break\n",
    "            \n",
    "            player, fun = switch_player(player, x, o)   \n",
    "    return results\n",
    "\n",
    "    \n",
    "if(DEBUG>1):\n",
    "    \"\"\"Test check_win\"\"\"\n",
    "    board = empty_board()\n",
    "    for i in range(4): result(board, 'x', 0)\n",
    "    print(board)\n",
    "    print('Win? ' + check_win(board))\n",
    "    print()\n",
    "    board = empty_board()\n",
    "    for i in range(4): result(board, 'o', 0)\n",
    "    print(board)\n",
    "    print('Win? ' + check_win(board))\n",
    "    print()\n",
    "    board = empty_board()\n",
    "    print(board)\n",
    "    print('Win? ' + check_win(board))\n",
    "    print()\n",
    "    \n",
    "    \"\"\"Test utility\"\"\"\n",
    "    print(utility(np.full(shape=[HEIGHT, WIDTH], fill_value='x')))\n",
    "    print(utility(np.full(shape=[HEIGHT, WIDTH], fill_value='o')))\n",
    "    print(utility(empty_board()))\n",
    "    print()\n",
    "    \n",
    "    \"\"\"Test is_terminal\"\"\"\n",
    "    print(is_terminal(np.full(shape=[HEIGHT, WIDTH], fill_value='x')))\n",
    "    print(is_terminal(np.full(shape=[HEIGHT, WIDTH], fill_value='o')))\n",
    "    print(is_terminal(empty_board()))\n",
    "    \n",
    "if(DEBUG<2):\n",
    "    %timeit -n 1 -r 1 display(play(random_player, random_player, N = 1000))"
   ]
  },
  {
   "cell_type": "markdown",
   "metadata": {},
   "source": [
    "* Player 'x' won 560 times and player 'o' won 437 times.\n",
    "* I expected this result, because player 'x' always goes first. This makes it more likely for player 'x' to win, because they are the first player that is able to win the game (on their fourth turn) and always has more or equal the number of turns taken compared to player 'o'."
   ]
  },
  {
   "cell_type": "markdown",
   "metadata": {},
   "source": [
    "## Task 3: Minimax Search with Alpha-Beta Pruning [4 points]\n",
    "\n",
    "### Implement the search starting from a given board and specifying the player."
   ]
  },
  {
   "cell_type": "code",
   "execution_count": 3,
   "metadata": {},
   "outputs": [],
   "source": []
  },
  {
   "cell_type": "markdown",
   "metadata": {},
   "source": [
    "Experiment with some manually created boards (at least 5) to check if the agent spots winning opportunities."
   ]
  },
  {
   "cell_type": "code",
   "execution_count": 4,
   "metadata": {},
   "outputs": [],
   "source": [
    "# Your code/ answer goes here."
   ]
  },
  {
   "cell_type": "markdown",
   "metadata": {},
   "source": [
    "How long does it take to make a move? Start with a smaller board with 4 columns and make the board larger by adding columns."
   ]
  },
  {
   "cell_type": "code",
   "execution_count": 5,
   "metadata": {},
   "outputs": [],
   "source": [
    "# Your code/ answer goes here."
   ]
  },
  {
   "cell_type": "markdown",
   "metadata": {},
   "source": [
    "### Move ordering\n",
    "\n",
    "Describe and implement a simple move ordering strategy. How does this strategy influence the time it takes to \n",
    "make a move?"
   ]
  },
  {
   "cell_type": "code",
   "execution_count": 6,
   "metadata": {},
   "outputs": [],
   "source": [
    "# Your code/ answer goes here."
   ]
  },
  {
   "cell_type": "markdown",
   "metadata": {},
   "source": [
    "### Playtime\n",
    "\n",
    "Let the Minimax Search agent play a random agent on a small board. Analyze wins, losses and draws."
   ]
  },
  {
   "cell_type": "code",
   "execution_count": 7,
   "metadata": {},
   "outputs": [],
   "source": [
    "# Your code/ answer goes here."
   ]
  },
  {
   "cell_type": "markdown",
   "metadata": {},
   "source": [
    "## Task 4: Heuristic Alpha-Beta Tree Search [3 points] \n",
    "\n",
    "### Heuristic evaluation function\n",
    "\n",
    "Define and implement a heuristic evaluation function."
   ]
  },
  {
   "cell_type": "code",
   "execution_count": 8,
   "metadata": {},
   "outputs": [],
   "source": [
    "# Your code/ answer goes here."
   ]
  },
  {
   "cell_type": "markdown",
   "metadata": {},
   "source": [
    "### Cutting off search \n",
    "\n",
    "Modify your Minimax Search with Alpha-Beta Pruning to cut off search at a specified depth and use the heuristic evaluation function. Experiment with different cutoff values."
   ]
  },
  {
   "cell_type": "code",
   "execution_count": 9,
   "metadata": {},
   "outputs": [],
   "source": [
    "# Your code/ answer goes here."
   ]
  },
  {
   "cell_type": "markdown",
   "metadata": {},
   "source": [
    "Experiment with the same manually created boards as above to check if the agent spots wining opportunities."
   ]
  },
  {
   "cell_type": "code",
   "execution_count": 10,
   "metadata": {},
   "outputs": [],
   "source": [
    "# Your code/ answer goes here."
   ]
  },
  {
   "cell_type": "markdown",
   "metadata": {},
   "source": [
    "How long does it take to make a move? Start with a smaller board with 4 columns and make the board larger by adding columns."
   ]
  },
  {
   "cell_type": "code",
   "execution_count": 11,
   "metadata": {},
   "outputs": [],
   "source": [
    "# Your code/ answer goes here."
   ]
  },
  {
   "cell_type": "markdown",
   "metadata": {},
   "source": [
    "### Forward Pruning\n",
    "\n",
    "Add forward pruning to the cutoff search where you do not consider moves that have a low evaluation value after a shallow search \n",
    "(way smaller than the cuttoff value)."
   ]
  },
  {
   "cell_type": "code",
   "execution_count": 12,
   "metadata": {},
   "outputs": [],
   "source": [
    "# Your code/ answer goes here."
   ]
  },
  {
   "cell_type": "markdown",
   "metadata": {},
   "source": [
    "How long does it take to make a move? Start with a smaller board with 4 columns and make the board larger by adding columns."
   ]
  },
  {
   "cell_type": "code",
   "execution_count": 13,
   "metadata": {},
   "outputs": [],
   "source": [
    "# Your code/ answer goes here."
   ]
  },
  {
   "cell_type": "markdown",
   "metadata": {},
   "source": [
    "### Playtime\n",
    "\n",
    "Let two heuristic search agents (different cutoff depth, different heuristic evaluation function or different forward pruning) compete against each other on a reasonably sized board. Since there is no randomness, you only need to let them play once."
   ]
  },
  {
   "cell_type": "code",
   "execution_count": 14,
   "metadata": {},
   "outputs": [],
   "source": [
    "# Your code/ answer goes here."
   ]
  },
  {
   "cell_type": "markdown",
   "metadata": {},
   "source": [
    "## Challenge task [+ 1 bonus point]\n",
    "\n",
    "Find another student and let your best agent play against the other student's best player. We will set up a class tournament on Canvas. This tournament will continue after the submission deadline."
   ]
  },
  {
   "cell_type": "markdown",
   "metadata": {},
   "source": [
    "## Graduate student advanced task: Pure Monte Carlo Search and Best First Move [1 point]\n",
    "\n",
    "__Undergraduate students:__ This is a bonus task you can attempt if you like [+1 Bonus point].\n",
    "\n",
    "### Pure Monte Carlos Search\n",
    "\n",
    "Implement Pure Monte Carlo Search and investigate how this search performs on the test boards that you have used above. "
   ]
  },
  {
   "cell_type": "code",
   "execution_count": 15,
   "metadata": {},
   "outputs": [],
   "source": [
    "# Your code/ answer goes here."
   ]
  },
  {
   "cell_type": "markdown",
   "metadata": {},
   "source": [
    "### Best First Move\n",
    "\n",
    "How would you determine what the best first move is? You can use Pure Monte Carlo Search or any algorithms \n",
    "that you have implemented above."
   ]
  },
  {
   "cell_type": "code",
   "execution_count": 16,
   "metadata": {},
   "outputs": [],
   "source": [
    "# Your code/ answer goes here."
   ]
  }
 ],
 "metadata": {
  "kernelspec": {
   "display_name": "Python 3",
   "language": "python",
   "name": "python3"
  },
  "language_info": {
   "codemirror_mode": {
    "name": "ipython",
    "version": 3
   },
   "file_extension": ".py",
   "mimetype": "text/x-python",
   "name": "python",
   "nbconvert_exporter": "python",
   "pygments_lexer": "ipython3",
   "version": "3.8.5"
  }
 },
 "nbformat": 4,
 "nbformat_minor": 4
}
