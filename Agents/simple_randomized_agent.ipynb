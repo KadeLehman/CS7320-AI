{
 "cells": [
  {
   "cell_type": "markdown",
   "metadata": {},
   "source": [
    "# Intelligent Agents: Reflex Agents for the Vacuum-cleaner World\n",
    "\n",
    "\n",
    "## Instructions\n",
    "\n",
    "Total Points: undergrad 10, graduate students 11\n",
    "\n",
    "Complete this notebook and submit it. The notebook needs to be a complete project report with \n",
    "\n",
    "* your implementation,\n",
    "* documentation including a short discussion of how your implementation works and your design choices, and\n",
    "* experimental results (e.g., tables and charts with simulation results) with a short discussion of what they mean. \n",
    "\n",
    "Use the provided notebook cells and insert additional code and markdown cells as needed.\n",
    "\n",
    "## Introduction\n",
    "\n",
    "In this assignment you will implement a simulator environment for an automatic vacuum cleaner robot, a set of different reflex agent programs, and perform a comparison study for cleaning a single room. Focus on the __cleaning phase__ which starts when the robot is activated and ends when the last dirty square is cleaned. Someone else will take care of the agent program needed to navigate back to the charging station after the room is clean.\n",
    "\n",
    "## PEAS description of the cleaning phase\n",
    "\n",
    "__Performance Measure:__ Each action costs 1 energy unit. The performance is measured as the sum of the energy units used to clean the whole room.\n",
    "\n",
    "__Environment:__ A room with $n \\times n$ squares where $n = 5$. Dirt is randomly placed on each square with probability $p = 0.2$. For simplicity, you can assume that the agent knows the size and the layout of the room (i.e., it knows $n$). To start, the agent is placed on a random square.\n",
    "\n",
    "__Actuators:__ The agent can `clean` the current square or move to an adjacent square by going `north`, `east`, `south`, or `west`.\n",
    "\n",
    "__Sensors:__ Four bumper sensors, one for north, east, south, and west; a dirt sensor reporting dirt in the current square.  \n",
    "\n",
    "\n",
    "## The agent program for a simple randomized agent\n",
    "\n",
    "The agent program is a function that gets sensor information (the current percepts) as the arguments. The arguments are:\n",
    "\n",
    "* A dictionary with boolean entries for the for bumper sensors `north`, `east`, `west`, `south`. E.g., if the agent is on the north-west corner, `bumpers` will be `{\"north\" : True, \"east\" : False, \"south\" : False, \"west\" : True}`.\n",
    "* The dirt sensor produces a boolean.\n",
    "\n",
    "The agent returns the chosen action as a string.\n",
    "\n",
    "Here is an example implementation for the agent program of a simple randomized agent:  "
   ]
  },
  {
   "cell_type": "code",
   "execution_count": 1,
   "metadata": {},
   "outputs": [],
   "source": [
    "import numpy as np\n",
    "import pandas as pd\n",
    "\n",
    "np.random.seed(seed=1) # set random seed\n",
    "actions = [\"north\", \"east\", \"west\", \"south\", \"suck\"]\n",
    "\n",
    "def simple_randomized_agent(bumpers, dirty):\n",
    "    return np.random.choice(actions)"
   ]
  },
  {
   "cell_type": "code",
   "execution_count": 2,
   "metadata": {},
   "outputs": [
    {
     "data": {
      "text/plain": [
       "'south'"
      ]
     },
     "execution_count": 2,
     "metadata": {},
     "output_type": "execute_result"
    }
   ],
   "source": [
    "# define percepts (current location is NW corner and it is dirty)\n",
    "bumpers = {\"north\" : True, \"east\" : False, \"south\" : False, \"west\" : True}\n",
    "dirty = True\n",
    "\n",
    "# call agent program function with percepts and it returns an action\n",
    "simple_randomized_agent(bumpers, dirty)"
   ]
  },
  {
   "cell_type": "markdown",
   "metadata": {},
   "source": [
    "__Note:__ This is not a rational intelligent agent. It ignores its sensors and may bump into a wall or not clean a dirty square. You will be asked to implement rational agents below."
   ]
  },
  {
   "cell_type": "markdown",
   "metadata": {},
   "source": [
    "## Simple environment example\n",
    "\n",
    "This simple environment is infinite in size (bumpers are always `False`) and every square is always dirty, even if the agent cleans it. The environment function returns the performance measure which is here the number of cleaned squares (since all squares are constantly dirty, it is the number of `suck` actions by the agent). "
   ]
  },
  {
   "cell_type": "code",
   "execution_count": 3,
   "metadata": {},
   "outputs": [],
   "source": [
    "def simple_environment(agent, max_steps, verbose = True):\n",
    "    num_cleaned = 0\n",
    "    \n",
    "    for i in range(max_steps):\n",
    "        dirty = True\n",
    "        bumpers = {\"north\" : False, \"south\" : False, \"west\" : False, \"east\" : False}\n",
    "\n",
    "        action = agent(bumpers, dirty)\n",
    "        if (verbose): print(\"step\", i , \"- action:\", action) \n",
    "        \n",
    "        if (action == \"suck\"): \n",
    "            num_cleaned = num_cleaned + 1\n",
    "        \n",
    "    return num_cleaned"
   ]
  },
  {
   "cell_type": "markdown",
   "metadata": {},
   "source": [
    "Do one simulation run with 20 steps."
   ]
  },
  {
   "cell_type": "code",
   "execution_count": 4,
   "metadata": {},
   "outputs": [
    {
     "name": "stdout",
     "output_type": "stream",
     "text": [
      "step 0 - action: suck\n",
      "step 1 - action: north\n",
      "step 2 - action: east\n",
      "step 3 - action: south\n",
      "step 4 - action: north\n",
      "step 5 - action: north\n",
      "step 6 - action: east\n",
      "step 7 - action: suck\n",
      "step 8 - action: suck\n",
      "step 9 - action: east\n",
      "step 10 - action: west\n",
      "step 11 - action: suck\n",
      "step 12 - action: west\n",
      "step 13 - action: suck\n",
      "step 14 - action: south\n",
      "step 15 - action: suck\n",
      "step 16 - action: west\n",
      "step 17 - action: suck\n",
      "step 18 - action: west\n",
      "step 19 - action: suck\n"
     ]
    },
    {
     "data": {
      "text/plain": [
       "8"
      ]
     },
     "execution_count": 4,
     "metadata": {},
     "output_type": "execute_result"
    }
   ],
   "source": [
    "simple_environment(simple_randomized_agent, max_steps = 20)"
   ]
  },
  {
   "cell_type": "markdown",
   "metadata": {},
   "source": [
    "# Tasks\n",
    "\n",
    "_Submission Instructions:_ Use this notebook to prepare your submission. Complete this section with your code and results. You can add additional Markdown blocks for your description, comments in the code and use mathplotlib to produce charts. \n",
    "\n",
    "_Note:_ Try to keep the code simple! In this course, we want to learn about the algorithms and we often do not need to use object-oriented design. \n",
    "\n",
    "\n",
    "## Task 1: Implement a simulation environment [2 Points]\n",
    "\n",
    "The simple environment above is not very realistic. Your environment simulator needs to follow the PEAS description from above. It needs to:\n",
    "\n",
    "* Initialize the environment by storing the state of each square (clean/dirty) and making some dirty.\n",
    "* Keep track of the agent's position.\n",
    "* Call the agent function repeatedly and provide the agent function with the sensor inputs.  \n",
    "* React to the agent's actions. E.g, by removing dirt from a square or moving the agent around unless there is a wall in the way.\n",
    "* Keep track of the performance measure. That is, track the agent's actions until all dirty squares are clean and count the number of actions it takes the agent to complete the task.\n",
    "\n",
    "The easiest implementation for the environment is to hold an 2-dimensional array to represent if squares are clean or dirty and to call the agent function in a loop until all squares are clean or a predefined number of steps have been reached (i.e., the robot runs out of energy).\n",
    "\n",
    "The simulation environment needs to work with the simple randomized agent program from above and then it can be used for your agent implementation in the tasks below."
   ]
  },
  {
   "cell_type": "code",
   "execution_count": 5,
   "metadata": {},
   "outputs": [],
   "source": [
    "# Description:\n",
    "#   My environment creates random dirty squares and stores them in a 2D array.\n",
    "#   It also tracks where the agent is and removes dirt from 2D array when appropriate.\n",
    "#   In this array, element zero represents the negative vertical axis, visually, and\n",
    "#   element one represents the positive horizontal axis. This is to simplify two\n",
    "#   processes: printing the array and mentally converting the visual positions\n",
    "#   to coordinates.\n",
    "\n",
    "# Code:\n",
    "def my_environment(agent, n = 5, max_steps = 20, verbose = True):\n",
    "    \n",
    "    # Initializing the environment.\n",
    "    data = {'num_cleaned': 0, 'energy_used': 0}\n",
    "    pos = np.random.randint(n, size=(2)) # Agent starts in a random square.\n",
    "    if (verbose): print(pos)\n",
    "    dirty = np.random.choice([0,1], p=[0.8, 0.2], size=(n, n))\n",
    "    if (verbose): print(dirty)\n",
    "    \n",
    "    # Limited by battery.\n",
    "    for i in range(max_steps):\n",
    "        data['energy_used']+=1\n",
    "        \n",
    "        # Update the bumper sensors.\n",
    "        bumpers = {\"north\" : False, \"south\" : False, \"west\" : False, \"east\" : False}\n",
    "        if (pos[0] == 0): bumpers['north'] = True\n",
    "        if (pos[0] == 4): bumpers['south'] = True\n",
    "        if (pos[1] == 0): bumpers['west'] = True\n",
    "        if (pos[1] == 4): bumpers['east'] = True\n",
    "        \n",
    "        # Send sensor info to the agent.\n",
    "        action = agent(bumpers, dirty[pos[0],pos[1]])\n",
    "        \n",
    "        # React to the agent's action.\n",
    "        if (verbose): print(\"step\", i, \"- action:\", action) \n",
    "        if (action == \"north\" and pos[0] != 0): pos[0]-=1 # Agent can't go through walls\n",
    "        elif (action == \"south\" and pos[0] != 4): pos[0]+=1\n",
    "        elif (action == \"west\" and pos[1] != 0): pos[1]-=1\n",
    "        elif (action == \"east\" and pos[1] != 4): pos[1]+=1\n",
    "        elif (action == \"suck\" and dirty[pos[0],pos[1]]):\n",
    "            # Remove dirt from 2d array, and record a cleaned square.\n",
    "            dirty[pos[0],pos[1]]=0\n",
    "            data['num_cleaned']+=1\n",
    "            # If all clean, return data.\n",
    "            if (data['num_cleaned'] == 25):\n",
    "                break\n",
    "                \n",
    "    print(pos)\n",
    "    print(dirty)\n",
    "    return pd.DataFrame(data, index = [''])"
   ]
  },
  {
   "cell_type": "code",
   "execution_count": 6,
   "metadata": {
    "scrolled": false
   },
   "outputs": [
    {
     "name": "stdout",
     "output_type": "stream",
     "text": [
      "[1 1]\n",
      "[[0 0 1 1 0]\n",
      " [0 1 1 0 0]\n",
      " [0 1 0 0 1]\n",
      " [0 0 0 0 1]\n",
      " [0 0 1 0 0]]\n",
      "step 0 - action: west\n",
      "step 1 - action: east\n",
      "step 2 - action: north\n",
      "step 3 - action: east\n",
      "step 4 - action: south\n",
      "step 5 - action: suck\n",
      "step 6 - action: south\n",
      "step 7 - action: east\n",
      "step 8 - action: south\n",
      "step 9 - action: north\n",
      "step 10 - action: north\n",
      "step 11 - action: west\n",
      "step 12 - action: west\n",
      "step 13 - action: east\n",
      "step 14 - action: south\n",
      "step 15 - action: suck\n",
      "step 16 - action: west\n",
      "step 17 - action: north\n",
      "step 18 - action: north\n",
      "step 19 - action: east\n",
      "[0 2]\n",
      "[[0 0 1 1 0]\n",
      " [0 1 0 0 0]\n",
      " [0 1 0 0 1]\n",
      " [0 0 0 0 1]\n",
      " [0 0 1 0 0]]\n"
     ]
    },
    {
     "data": {
      "text/html": [
       "<div>\n",
       "<style scoped>\n",
       "    .dataframe tbody tr th:only-of-type {\n",
       "        vertical-align: middle;\n",
       "    }\n",
       "\n",
       "    .dataframe tbody tr th {\n",
       "        vertical-align: top;\n",
       "    }\n",
       "\n",
       "    .dataframe thead th {\n",
       "        text-align: right;\n",
       "    }\n",
       "</style>\n",
       "<table border=\"1\" class=\"dataframe\">\n",
       "  <thead>\n",
       "    <tr style=\"text-align: right;\">\n",
       "      <th></th>\n",
       "      <th>num_cleaned</th>\n",
       "      <th>energy_used</th>\n",
       "    </tr>\n",
       "  </thead>\n",
       "  <tbody>\n",
       "    <tr>\n",
       "      <th></th>\n",
       "      <td>1</td>\n",
       "      <td>20</td>\n",
       "    </tr>\n",
       "  </tbody>\n",
       "</table>\n",
       "</div>"
      ],
      "text/plain": [
       "  num_cleaned  energy_used\n",
       "            1           20"
      ]
     },
     "execution_count": 6,
     "metadata": {},
     "output_type": "execute_result"
    }
   ],
   "source": [
    "my_environment(simple_randomized_agent)"
   ]
  },
  {
   "cell_type": "markdown",
   "metadata": {},
   "source": [
    "## Task 2:  Implement a simple reflex agent [1 Point] \n",
    "\n",
    "The simple reflex agent randomly walks around but reacts to the bumper sensor by not bumping into the wall and to dirt with sucking. Implement the agent program as a function.\n",
    "\n",
    "_Note:_ The agent cannot directly use variable in the environment. It only gets the percepts as the arguments to the agent program function."
   ]
  },
  {
   "cell_type": "code",
   "execution_count": 7,
   "metadata": {},
   "outputs": [],
   "source": [
    "# Description:\n",
    "#   My simple reflex agent reacts to dirt by sucking, and it travels a random direction\n",
    "#   where there is no wall in its way.\n",
    "\n",
    "# Code:\n",
    "travel = [\"north\", \"east\", \"west\", \"south\"]\n",
    "\n",
    "def simple_reflex_agent(bumpers, dirty):\n",
    "    if (dirty): return \"suck\"\n",
    "    action = np.random.choice(travel)\n",
    "    while (bumpers[action]): # Check for wall\n",
    "        action = np.random.choice(travel)\n",
    "    return action"
   ]
  },
  {
   "cell_type": "code",
   "execution_count": 8,
   "metadata": {},
   "outputs": [
    {
     "name": "stdout",
     "output_type": "stream",
     "text": [
      "[1 3]\n",
      "[[0 0 0 0 0]\n",
      " [0 1 0 0 1]\n",
      " [0 0 0 0 0]\n",
      " [0 0 0 0 0]\n",
      " [0 0 0 1 0]]\n",
      "step 0 - action: south\n",
      "step 1 - action: east\n",
      "step 2 - action: west\n",
      "step 3 - action: north\n",
      "step 4 - action: north\n",
      "step 5 - action: south\n",
      "step 6 - action: west\n",
      "step 7 - action: west\n",
      "step 8 - action: suck\n",
      "step 9 - action: west\n",
      "step 10 - action: north\n",
      "step 11 - action: east\n",
      "step 12 - action: west\n",
      "step 13 - action: south\n",
      "step 14 - action: south\n",
      "step 15 - action: north\n",
      "step 16 - action: south\n",
      "step 17 - action: east\n",
      "step 18 - action: east\n",
      "step 19 - action: west\n",
      "[2 1]\n",
      "[[0 0 0 0 0]\n",
      " [0 0 0 0 1]\n",
      " [0 0 0 0 0]\n",
      " [0 0 0 0 0]\n",
      " [0 0 0 1 0]]\n"
     ]
    },
    {
     "data": {
      "text/html": [
       "<div>\n",
       "<style scoped>\n",
       "    .dataframe tbody tr th:only-of-type {\n",
       "        vertical-align: middle;\n",
       "    }\n",
       "\n",
       "    .dataframe tbody tr th {\n",
       "        vertical-align: top;\n",
       "    }\n",
       "\n",
       "    .dataframe thead th {\n",
       "        text-align: right;\n",
       "    }\n",
       "</style>\n",
       "<table border=\"1\" class=\"dataframe\">\n",
       "  <thead>\n",
       "    <tr style=\"text-align: right;\">\n",
       "      <th></th>\n",
       "      <th>num_cleaned</th>\n",
       "      <th>energy_used</th>\n",
       "    </tr>\n",
       "  </thead>\n",
       "  <tbody>\n",
       "    <tr>\n",
       "      <th></th>\n",
       "      <td>1</td>\n",
       "      <td>20</td>\n",
       "    </tr>\n",
       "  </tbody>\n",
       "</table>\n",
       "</div>"
      ],
      "text/plain": [
       "  num_cleaned  energy_used\n",
       "            1           20"
      ]
     },
     "execution_count": 8,
     "metadata": {},
     "output_type": "execute_result"
    }
   ],
   "source": [
    "my_environment(simple_reflex_agent)"
   ]
  },
  {
   "cell_type": "markdown",
   "metadata": {},
   "source": [
    "## Task 3: Implement a model-based reflex agent [3 Point]\n",
    "\n",
    "This agent keeps track of the location and remembers where it has cleaned. Assume the agent knows how many squares the room has. It can move to a corner to determine its location and then is able to use more advanced navigation.\n",
    "\n",
    "Describe how you define the __agent state__ and how your agent works before implementing it. _Note on implementing the state in Python:_ [Examples](https://github.com/mhahsler/CS7320-AI/blob/master/Python_Code_Examples/store_agent_state_information.ipynb)"
   ]
  },
  {
   "cell_type": "code",
   "execution_count": 9,
   "metadata": {},
   "outputs": [],
   "source": [
    "# State:\n",
    "#   I define agent state with a name to identify it and an array for its current coordinate position\n",
    "#   after it has navigated to the northwest corner of the environment.\n",
    "\n",
    "# Implementation:\n",
    "#     My model-based reflex agent will first go west until it detects a wall west of it, then it will\n",
    "#   go north until it detects another wall north of it. After this, the agent should be in the northwest\n",
    "#   corner of the environment, and it will suck if dirt is detected.\n",
    "#     Next, it moves east and sucks again until it detects an eastward wall. (Throughout, it will remember\n",
    "#   where it has taken a DSR, dirt sensor reading, by marking that location in its state.) To continue, the\n",
    "#   agent moves south to the next y-coordinate and sucks if true DSR and repeats moving west\n",
    "#   until it detects a westward wall. This process engages in this snake-like traveling pattern until\n",
    "#   the environment realizes all the squares are clean or the battery is out."
   ]
  },
  {
   "cell_type": "code",
   "execution_count": 10,
   "metadata": {},
   "outputs": [],
   "source": [
    "class MBR_Agent:\n",
    "    def __init__(self, name = \"A Model-Based Reflex Agent\", nav = False):\n",
    "        self.name = name\n",
    "        self.nav = nav # Can the agent use advanced navigation yet?\n",
    "        self.position = np.array([0,0])\n",
    "        if (!nav): self.code = 0\n",
    "        else: self.code = 2\n",
    "\n",
    "    def act(self, bumpers, dirty):\n",
    "        # 0. if no west wall, go west\n",
    "        # 1. if no north wall, go north\n",
    "        self.nav = True # Agent knows where it is now.\n",
    "        # 2. mark and take DSR\n",
    "        \n",
    "        # until east wall\n",
    "        #   3. go east\n",
    "        #   4. mark and take DSR\n",
    "        # 5. go south\n",
    "        # 6. mark and take DSR\n",
    "        # until west wall\n",
    "        #   7. go west\n",
    "        #   8. mark and take DSR\n",
    "        \n",
    "        return(\"error\")"
   ]
  },
  {
   "cell_type": "code",
   "execution_count": 11,
   "metadata": {},
   "outputs": [
    {
     "name": "stdout",
     "output_type": "stream",
     "text": [
      "[4 0]\n",
      "[[0 0 0 0 0]\n",
      " [0 1 0 0 0]\n",
      " [0 0 0 0 0]\n",
      " [0 0 0 0 0]\n",
      " [0 0 0 0 0]]\n",
      "A Model-Based Reflex Agent\n",
      "step 0 - action: suck\n",
      "A Model-Based Reflex Agent\n",
      "step 1 - action: suck\n",
      "A Model-Based Reflex Agent\n",
      "step 2 - action: suck\n",
      "A Model-Based Reflex Agent\n",
      "step 3 - action: suck\n",
      "A Model-Based Reflex Agent\n",
      "step 4 - action: suck\n",
      "A Model-Based Reflex Agent\n",
      "step 5 - action: suck\n",
      "A Model-Based Reflex Agent\n",
      "step 6 - action: suck\n",
      "A Model-Based Reflex Agent\n",
      "step 7 - action: suck\n",
      "A Model-Based Reflex Agent\n",
      "step 8 - action: suck\n",
      "A Model-Based Reflex Agent\n",
      "step 9 - action: suck\n",
      "A Model-Based Reflex Agent\n",
      "step 10 - action: suck\n",
      "A Model-Based Reflex Agent\n",
      "step 11 - action: suck\n",
      "A Model-Based Reflex Agent\n",
      "step 12 - action: suck\n",
      "A Model-Based Reflex Agent\n",
      "step 13 - action: suck\n",
      "A Model-Based Reflex Agent\n",
      "step 14 - action: suck\n",
      "A Model-Based Reflex Agent\n",
      "step 15 - action: suck\n",
      "A Model-Based Reflex Agent\n",
      "step 16 - action: suck\n",
      "A Model-Based Reflex Agent\n",
      "step 17 - action: suck\n",
      "A Model-Based Reflex Agent\n",
      "step 18 - action: suck\n",
      "A Model-Based Reflex Agent\n",
      "step 19 - action: suck\n",
      "[4 0]\n",
      "[[0 0 0 0 0]\n",
      " [0 1 0 0 0]\n",
      " [0 0 0 0 0]\n",
      " [0 0 0 0 0]\n",
      " [0 0 0 0 0]]\n"
     ]
    },
    {
     "data": {
      "text/html": [
       "<div>\n",
       "<style scoped>\n",
       "    .dataframe tbody tr th:only-of-type {\n",
       "        vertical-align: middle;\n",
       "    }\n",
       "\n",
       "    .dataframe tbody tr th {\n",
       "        vertical-align: top;\n",
       "    }\n",
       "\n",
       "    .dataframe thead th {\n",
       "        text-align: right;\n",
       "    }\n",
       "</style>\n",
       "<table border=\"1\" class=\"dataframe\">\n",
       "  <thead>\n",
       "    <tr style=\"text-align: right;\">\n",
       "      <th></th>\n",
       "      <th>num_cleaned</th>\n",
       "      <th>energy_used</th>\n",
       "    </tr>\n",
       "  </thead>\n",
       "  <tbody>\n",
       "    <tr>\n",
       "      <th></th>\n",
       "      <td>0</td>\n",
       "      <td>20</td>\n",
       "    </tr>\n",
       "  </tbody>\n",
       "</table>\n",
       "</div>"
      ],
      "text/plain": [
       "  num_cleaned  energy_used\n",
       "            0           20"
      ]
     },
     "execution_count": 11,
     "metadata": {},
     "output_type": "execute_result"
    }
   ],
   "source": [
    "mbr_agent = MBR_Agent(initial_position = init_pos)\n",
    "my_environment(mbr_agent.act)"
   ]
  },
  {
   "cell_type": "markdown",
   "metadata": {},
   "source": [
    "## Task 4: Simulation study [3 Points]\n",
    "\n",
    "Compare the performance (the performance measure is defined in the PEAS description above) of the agents using  environments of different size. E.g., $5 \\times 5$, $10 \\times 10$ and\n",
    "$100 \\times 100$. Use 100 random runs for each. Present the results in a suitable format (tables, graphs) and discuss the differences. \n",
    "\n",
    "Here is some help with [charts and tables.](https://github.com/mhahsler/CS7320-AI/blob/master/Python_Code_Examples/charts_and_tables.ipynb)"
   ]
  },
  {
   "cell_type": "code",
   "execution_count": 12,
   "metadata": {},
   "outputs": [],
   "source": [
    "# Your code goes here"
   ]
  },
  {
   "cell_type": "markdown",
   "metadata": {},
   "source": [
    "Fill out the following table with the average performance measure for 100 random runs (you may also create this table with code):\n",
    "\n",
    "| Size     | Randomized Agent | Simple Reflex Agent | Model-based Reflex Agent |\n",
    "|----------|------------------|---------------------|--------------------------|\n",
    "| 5x5     | | | |\n",
    "| 10x10   | | | |\n",
    "| 100x100 | | | |"
   ]
  },
  {
   "cell_type": "code",
   "execution_count": 13,
   "metadata": {},
   "outputs": [],
   "source": [
    "# Your discussion of the results goes here"
   ]
  },
  {
   "cell_type": "markdown",
   "metadata": {},
   "source": [
    "## Task 5: Robustness of the agent implementations [1 Point] \n",
    "\n",
    "Describe how your agent implementations will perform \n",
    "\n",
    "* if it is put into a rectangular room with unknown size, \n",
    "* if the cleaning area can have an irregular shape (e.g., a hallway connecting two rooms), or \n",
    "* if the room contains obstacles (i.e., squares that it cannot pass through and trigger the bumper sensors)."
   ]
  },
  {
   "cell_type": "code",
   "execution_count": 14,
   "metadata": {},
   "outputs": [],
   "source": [
    "# Answer goes here"
   ]
  },
  {
   "cell_type": "markdown",
   "metadata": {},
   "source": [
    "## Graduate student advanced task: Obstacles [1 Point]\n",
    "\n",
    "__Undergraduate students:__ This is a bonus task you can attempt if you like [+1 Bonus point].\n",
    "\n",
    "1. Change your simulation environment tor run experiments for the following problem: Add random obstacle squares that also trigger the bumper sensor. The agent does not know where the obstacles are. Observe how this changes the performance of the three implementations.\n",
    "\n",
    "2. Describe what would need to be done to perform better with obstacles. Add code if you can. "
   ]
  },
  {
   "cell_type": "code",
   "execution_count": 15,
   "metadata": {},
   "outputs": [],
   "source": [
    "# Your code and discussion goes here"
   ]
  },
  {
   "cell_type": "markdown",
   "metadata": {},
   "source": [
    "## More advanced tasks to think about\n",
    "\n",
    "You can think about these:\n",
    "\n",
    "* __Unknown environment with obstacles:__ Implement an agent for an environment where the agent does not know how large the environment is (we assume it is rectangular), where it starts or where the obstacles are. An option would be to always move to the closest unchecked/uncleaned square.\n",
    "\n",
    "* __Utility-based agent:__ Change the environment, so each square has a fixed probability of getting dirty again. We assume the agent has learned this information over time. For the implementation, we give this information to the agent as a 2-dimensional array of probabilities  Cleaning one dirty square produces a utility of 1. Implement a utility-based agent that maximizes the expected utility over one full charge which lasts for 10000 time steps. This is very tricky!"
   ]
  },
  {
   "cell_type": "code",
   "execution_count": 16,
   "metadata": {},
   "outputs": [],
   "source": [
    "# Your ideas/code"
   ]
  }
 ],
 "metadata": {
  "kernelspec": {
   "display_name": "Python 3",
   "language": "python",
   "name": "python3"
  },
  "language_info": {
   "codemirror_mode": {
    "name": "ipython",
    "version": 3
   },
   "file_extension": ".py",
   "mimetype": "text/x-python",
   "name": "python",
   "nbconvert_exporter": "python",
   "pygments_lexer": "ipython3",
   "version": "3.8.5"
  }
 },
 "nbformat": 4,
 "nbformat_minor": 4
}
